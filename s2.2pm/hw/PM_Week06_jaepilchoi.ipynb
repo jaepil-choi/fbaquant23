{
 "cells": [
  {
   "cell_type": "markdown",
   "metadata": {},
   "source": [
    "# PM hw 99\n",
    "\n",
    "최재필"
   ]
  },
  {
   "cell_type": "markdown",
   "metadata": {},
   "source": [
    "## Q1. Summarize\n",
    "\n",
    "Investment Science\n",
    "\n",
    "- Chp 6.4 Portfolio mean and variance \n",
    "- Chp 6.5 The feasible set\n",
    "- Chp 6.6 The Markowitz model\n",
    "- Chp 6.7 The two fund theorem\n",
    "- Chp 6.8 Inclusion of a risk-free asset"
   ]
  },
  {
   "cell_type": "markdown",
   "metadata": {},
   "source": [
    "### 6.4 Portfolio Mean and Variance\n",
    "\n",
    "- mean: ![Expected Return](image-2.png)\n",
    "- variance: ![Expected Variance](image-3.png)\n",
    "- Diversification: low corr일수록 portfolio variance가 작아진다. \n",
    "    - ![Alt text](image-4.png)\n",
    "- Diagram of a Portfolio\n",
    "    - ![Alt text](image-5.png)\n",
    "    - 좌상향할수록 좋음. \n",
    "        - variance 저저익선: risk averse\n",
    "        - return 고고익선: nonsatiation\n",
    "    - -1 <= corr <= 1 \n",
    "    - corr = -1 인 경우가 제일 좋다. \n",
    "    - corr = 1 인 경우 분산의 효과 없음. \n",
    "    - 대부분의 경우 convex to the left한 곡선 \n",
    "    - Portfolio Diagram Lemma: \n",
    "        - non-negative mixture of two assets은 삼각형 안에 들어옴. "
   ]
  },
  {
   "cell_type": "markdown",
   "metadata": {},
   "source": [
    "### 6.5 The Feasible Set\n",
    "\n",
    "![Figure 6.9](image-6.png)\n",
    "\n",
    "- feasible region (=feasible set): \n",
    "    - weight을 달리하여 mix한 조합들\n",
    "    - 성질 1: 3개 이상의 asset이 있을 시 feasible set이 2d 평면이 됨. (삼각형처럼)\n",
    "    - 성질 2: convex to the left\n",
    "\n",
    "![Alt text](image-7.png)\n",
    "\n",
    "- Minimum-Variance Set & Efficient Frontier\n",
    "    - n original asset끼리 다 연결해서 만든 feaseible set을 여러 개 그릴 수 있음\n",
    "    - 이걸 감싸는 것이 minimum variance set\n",
    "        - minimum variance point (MVP)\n",
    "        - 아래 반쪽은 버리고, superior한 위쪽만 efficient frontier\n",
    "    "
   ]
  },
  {
   "cell_type": "markdown",
   "metadata": {},
   "source": [
    "### 6.6 The Markowitz Model\n",
    "\n",
    "![Minimum Variance Optimization](image-8.png)\n",
    "\n",
    "- Minimum variance를 목적함수 라그랑지안 적용\n",
    "    - ![Lagrangian](image-9.png)\n",
    "        - n개의 식\n",
    "    - ![partial diff of Lagrangian](image-10.png)\n",
    "        - w1, w2로 편미분\n",
    "\n",
    "\n",
    "![Alt text](image-11.png)\n",
    "\n",
    "- Nonnegativity Constraints\n",
    "    - w에 제한 없다면 short selling이 allowed되는 것. \n",
    "    - 풀려면 Quadratic Program (QP) 가 필요하다고 함. \n",
    "    - 대부분 \n",
    "        - short selling allowed인 경우: w 가중치들이 제각각 nonzero values로 나옴\n",
    "        - short selling not allowed인 경우: w 가중치들이 많이 0으로 나옴 (공매도 못하니까 안사기라도)"
   ]
  },
  {
   "cell_type": "markdown",
   "metadata": {},
   "source": [
    "### 6.7 The Two-Fund Theorem\n",
    "\n",
    "- 라그랑지안을 만족하는 w1*, w2* 포트폴리오 가중치들이 있다고 할 때, 이 두 fund를 조합한 것도 minimum variance portfolio임. \n",
    "- Two-Fund Theorem: 두 개의 효율적 fund만 있으면 조합해서 임의의 효율적 fund를 만들어낼 수 있음. \n",
    "    - 개개인의 return-variance 효용곡선 고려 안함\n",
    "    - mean, variance에 대한 평가도 사람마다 다를 수 있음"
   ]
  },
  {
   "cell_type": "markdown",
   "metadata": {},
   "source": [
    "### 6.8 Inclusion of a Risk-Free Asset\n",
    "\n",
    "- risk-free asset: return = c & variance = 0 인 asset\n",
    "    - cash를 risk-free rate에 빌리고/빌려줄 수 있는 것과 같은 의미\n",
    "    - risk-free asset과 임의의 asset의 covariance = 0\n",
    "    - 그래서 포트폴리오의 mean, variance는: \n",
    "        - ![risk-free included portfolio](image-12.png)\n",
    "- risk-free asset을 포함시켰을 때의 diagram:\n",
    "    - ![with risk-free diagram](image-13.png)\n",
    "        - lending only / lending+borrowing 차이\n",
    "            - a. lending+borrowing\n",
    "            - b. lending only\n",
    "        - feasible regioin이 삼각형으로 늘어나고, \n",
    "        - efficient frontier가 직선이 됨. \n",
    "    - (Chp 6.9) One-Fund Theorem 과의 연결고리\n",
    "        - ![Alt text](image-14.png)\n",
    "        - risk-free aseet이 있다면 efficient한 fund F 하나만 있어도 모든 사람에게 최적이 되는 포트폴리오를 만들 수 있다. "
   ]
  },
  {
   "cell_type": "markdown",
   "metadata": {},
   "source": [
    "## Q2. Bla Bla"
   ]
  },
  {
   "cell_type": "code",
   "execution_count": null,
   "metadata": {},
   "outputs": [],
   "source": []
  },
  {
   "cell_type": "code",
   "execution_count": null,
   "metadata": {},
   "outputs": [],
   "source": []
  },
  {
   "cell_type": "markdown",
   "metadata": {},
   "source": [
    "## Q3. Bla Bla"
   ]
  },
  {
   "cell_type": "code",
   "execution_count": null,
   "metadata": {},
   "outputs": [],
   "source": []
  },
  {
   "cell_type": "code",
   "execution_count": null,
   "metadata": {},
   "outputs": [],
   "source": []
  },
  {
   "cell_type": "markdown",
   "metadata": {},
   "source": [
    "## Q4. Bla Bla"
   ]
  },
  {
   "cell_type": "code",
   "execution_count": null,
   "metadata": {},
   "outputs": [],
   "source": []
  },
  {
   "cell_type": "code",
   "execution_count": null,
   "metadata": {},
   "outputs": [],
   "source": []
  }
 ],
 "metadata": {
  "language_info": {
   "name": "python"
  },
  "orig_nbformat": 4
 },
 "nbformat": 4,
 "nbformat_minor": 2
}
